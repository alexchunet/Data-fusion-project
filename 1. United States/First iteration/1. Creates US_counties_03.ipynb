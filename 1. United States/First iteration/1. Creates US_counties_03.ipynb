{
 "cells": [
  {
   "cell_type": "code",
   "execution_count": 1,
   "metadata": {},
   "outputs": [],
   "source": [
    "import pandas as pd"
   ]
  },
  {
   "cell_type": "markdown",
   "metadata": {},
   "source": [
    "# Import US la.data.64.County and la.area\n",
    "\n",
    "The Local Area Unemployment Statistics (LAUS) program produces monthly estimates for Census regions and divisions, states (plus DC and Puerto Rico), metropolitan and micropolitan statistical areas, all counties, and cities with a population of 25,000 or more. You can access these estimates using the database tools at https://www.bls.gov/lau/data.htm. \n",
    "\n",
    "See https://download.bls.gov/pub/time.series/la/\n",
    "\n",
    "To connect the county names, you can connect the series_id field in the county file with the same field in the “la.series” file, then use the area_code field in that file to connect to the “la.area” file, which contains the area names in the area_text field. Alternatively, since the area code is embedded within the series_id, you can remove the “LAU” from the front of the series id and the last two digits (03, 04, 05, or 06) from the end (giving you, for example, CN0100100000000). You can then directly connect that resulting area code to the area_code field in the “la.area” file. \n",
    "\n",
    "Month 13 (M13) is the annual average. M01 through M12 are January-December, as you would expect.\n",
    "\n",
    "The last two digits are the measure codes:\n",
    "\n",
    "03 – unemployment rate\n",
    "\n",
    "04 – unemployment (level)\n",
    "\n",
    "05 – employment\n",
    "\n",
    "06 – labor force\n"
   ]
  },
  {
   "cell_type": "code",
   "execution_count": 2,
   "metadata": {},
   "outputs": [],
   "source": [
    "url_1 = 'https://download.bls.gov/pub/time.series/la/la.area'\n",
    "url_2 = 'https://download.bls.gov/pub/time.series/la/la.data.64.County'"
   ]
  },
  {
   "cell_type": "code",
   "execution_count": 3,
   "metadata": {
    "scrolled": true
   },
   "outputs": [],
   "source": [
    "la_area = pd.read_csv(url_1, sep='\\t', dtype=None)"
   ]
  },
  {
   "cell_type": "code",
   "execution_count": 4,
   "metadata": {},
   "outputs": [
    {
     "data": {
      "text/html": [
       "<div>\n",
       "<style scoped>\n",
       "    .dataframe tbody tr th:only-of-type {\n",
       "        vertical-align: middle;\n",
       "    }\n",
       "\n",
       "    .dataframe tbody tr th {\n",
       "        vertical-align: top;\n",
       "    }\n",
       "\n",
       "    .dataframe thead th {\n",
       "        text-align: right;\n",
       "    }\n",
       "</style>\n",
       "<table border=\"1\" class=\"dataframe\">\n",
       "  <thead>\n",
       "    <tr style=\"text-align: right;\">\n",
       "      <th></th>\n",
       "      <th>area_type_code</th>\n",
       "      <th>area_code</th>\n",
       "      <th>area_text</th>\n",
       "      <th>display_level</th>\n",
       "      <th>selectable</th>\n",
       "      <th>sort_sequence</th>\n",
       "    </tr>\n",
       "  </thead>\n",
       "  <tbody>\n",
       "    <tr>\n",
       "      <th>0</th>\n",
       "      <td>A</td>\n",
       "      <td>ST0100000000000</td>\n",
       "      <td>Alabama</td>\n",
       "      <td>0</td>\n",
       "      <td>T</td>\n",
       "      <td>1</td>\n",
       "    </tr>\n",
       "    <tr>\n",
       "      <th>1</th>\n",
       "      <td>A</td>\n",
       "      <td>ST0200000000000</td>\n",
       "      <td>Alaska</td>\n",
       "      <td>0</td>\n",
       "      <td>T</td>\n",
       "      <td>146</td>\n",
       "    </tr>\n",
       "    <tr>\n",
       "      <th>2</th>\n",
       "      <td>A</td>\n",
       "      <td>ST0400000000000</td>\n",
       "      <td>Arizona</td>\n",
       "      <td>0</td>\n",
       "      <td>T</td>\n",
       "      <td>188</td>\n",
       "    </tr>\n",
       "    <tr>\n",
       "      <th>3</th>\n",
       "      <td>A</td>\n",
       "      <td>ST0500000000000</td>\n",
       "      <td>Arkansas</td>\n",
       "      <td>0</td>\n",
       "      <td>T</td>\n",
       "      <td>252</td>\n",
       "    </tr>\n",
       "    <tr>\n",
       "      <th>4</th>\n",
       "      <td>A</td>\n",
       "      <td>ST0600000000000</td>\n",
       "      <td>California</td>\n",
       "      <td>0</td>\n",
       "      <td>T</td>\n",
       "      <td>378</td>\n",
       "    </tr>\n",
       "  </tbody>\n",
       "</table>\n",
       "</div>"
      ],
      "text/plain": [
       "  area_type_code        area_code   area_text  display_level selectable  \\\n",
       "0              A  ST0100000000000     Alabama              0          T   \n",
       "1              A  ST0200000000000      Alaska              0          T   \n",
       "2              A  ST0400000000000     Arizona              0          T   \n",
       "3              A  ST0500000000000    Arkansas              0          T   \n",
       "4              A  ST0600000000000  California              0          T   \n",
       "\n",
       "   sort_sequence  \n",
       "0              1  \n",
       "1            146  \n",
       "2            188  \n",
       "3            252  \n",
       "4            378  "
      ]
     },
     "execution_count": 4,
     "metadata": {},
     "output_type": "execute_result"
    }
   ],
   "source": [
    "la_area.head()"
   ]
  },
  {
   "cell_type": "code",
   "execution_count": 5,
   "metadata": {},
   "outputs": [],
   "source": [
    "la_data_64_County = pd.read_csv(url_2, sep='\\t', dtype=str)\n",
    "la_data_64_County.columns = ['series_id', 'year', 'period', 'value', 'footnote_codes'] \n",
    "la_data_64_County['year']= la_data_64_County['year'].astype(int) \n",
    "la_data_64_County['value']= la_data_64_County['value'].astype(str) "
   ]
  },
  {
   "cell_type": "code",
   "execution_count": 6,
   "metadata": {},
   "outputs": [
    {
     "data": {
      "text/html": [
       "<div>\n",
       "<style scoped>\n",
       "    .dataframe tbody tr th:only-of-type {\n",
       "        vertical-align: middle;\n",
       "    }\n",
       "\n",
       "    .dataframe tbody tr th {\n",
       "        vertical-align: top;\n",
       "    }\n",
       "\n",
       "    .dataframe thead th {\n",
       "        text-align: right;\n",
       "    }\n",
       "</style>\n",
       "<table border=\"1\" class=\"dataframe\">\n",
       "  <thead>\n",
       "    <tr style=\"text-align: right;\">\n",
       "      <th></th>\n",
       "      <th>series_id</th>\n",
       "      <th>year</th>\n",
       "      <th>period</th>\n",
       "      <th>value</th>\n",
       "      <th>footnote_codes</th>\n",
       "    </tr>\n",
       "  </thead>\n",
       "  <tbody>\n",
       "    <tr>\n",
       "      <th>0</th>\n",
       "      <td>LAUCN010010000000003</td>\n",
       "      <td>1990</td>\n",
       "      <td>M01</td>\n",
       "      <td>6.4</td>\n",
       "      <td>NaN</td>\n",
       "    </tr>\n",
       "    <tr>\n",
       "      <th>1</th>\n",
       "      <td>LAUCN010010000000003</td>\n",
       "      <td>1990</td>\n",
       "      <td>M02</td>\n",
       "      <td>6.6</td>\n",
       "      <td>NaN</td>\n",
       "    </tr>\n",
       "    <tr>\n",
       "      <th>2</th>\n",
       "      <td>LAUCN010010000000003</td>\n",
       "      <td>1990</td>\n",
       "      <td>M03</td>\n",
       "      <td>5.8</td>\n",
       "      <td>NaN</td>\n",
       "    </tr>\n",
       "    <tr>\n",
       "      <th>3</th>\n",
       "      <td>LAUCN010010000000003</td>\n",
       "      <td>1990</td>\n",
       "      <td>M04</td>\n",
       "      <td>6.6</td>\n",
       "      <td>NaN</td>\n",
       "    </tr>\n",
       "    <tr>\n",
       "      <th>4</th>\n",
       "      <td>LAUCN010010000000003</td>\n",
       "      <td>1990</td>\n",
       "      <td>M05</td>\n",
       "      <td>6.0</td>\n",
       "      <td>NaN</td>\n",
       "    </tr>\n",
       "  </tbody>\n",
       "</table>\n",
       "</div>"
      ],
      "text/plain": [
       "                        series_id  year period         value footnote_codes\n",
       "0  LAUCN010010000000003            1990    M01           6.4            NaN\n",
       "1  LAUCN010010000000003            1990    M02           6.6            NaN\n",
       "2  LAUCN010010000000003            1990    M03           5.8            NaN\n",
       "3  LAUCN010010000000003            1990    M04           6.6            NaN\n",
       "4  LAUCN010010000000003            1990    M05           6.0            NaN"
      ]
     },
     "execution_count": 6,
     "metadata": {},
     "output_type": "execute_result"
    }
   ],
   "source": [
    "la_data_64_County.head()"
   ]
  },
  {
   "cell_type": "code",
   "execution_count": 7,
   "metadata": {},
   "outputs": [],
   "source": [
    "# Create new variables\n",
    "# Keep 15 characters: CN190 25000 00000\n",
    "# https://pandas.pydata.org/pandas-docs/stable/reference/api/pandas.Series.str.slice.html \n",
    "la_data_64_County['area_code'] = la_data_64_County['series_id'].str[3:18]\n",
    "la_data_64_County['series'] = la_data_64_County['series_id'].str[19:].astype(int)\n",
    "la_data_64_County['month'] = la_data_64_County['period'].str[1:].astype(int)"
   ]
  },
  {
   "cell_type": "code",
   "execution_count": 8,
   "metadata": {},
   "outputs": [
    {
     "data": {
      "text/plain": [
       "False    3696924\n",
       "True     1232308\n",
       "Name: series, dtype: int64"
      ]
     },
     "execution_count": 8,
     "metadata": {},
     "output_type": "execute_result"
    }
   ],
   "source": [
    "is_unemployment = la_data_64_County['series'] == 3\n",
    "is_unemployment.value_counts()"
   ]
  },
  {
   "cell_type": "code",
   "execution_count": 9,
   "metadata": {},
   "outputs": [
    {
     "data": {
      "text/plain": [
       "True     4556004\n",
       "False     373228\n",
       "Name: month, dtype: int64"
      ]
     },
     "execution_count": 9,
     "metadata": {},
     "output_type": "execute_result"
    }
   ],
   "source": [
    "is_month = la_data_64_County['month'] != 13\n",
    "is_month.value_counts()"
   ]
  },
  {
   "cell_type": "code",
   "execution_count": 10,
   "metadata": {},
   "outputs": [
    {
     "data": {
      "text/html": [
       "<div>\n",
       "<style scoped>\n",
       "    .dataframe tbody tr th:only-of-type {\n",
       "        vertical-align: middle;\n",
       "    }\n",
       "\n",
       "    .dataframe tbody tr th {\n",
       "        vertical-align: top;\n",
       "    }\n",
       "\n",
       "    .dataframe thead th {\n",
       "        text-align: right;\n",
       "    }\n",
       "</style>\n",
       "<table border=\"1\" class=\"dataframe\">\n",
       "  <thead>\n",
       "    <tr style=\"text-align: right;\">\n",
       "      <th></th>\n",
       "      <th>year</th>\n",
       "      <th>series</th>\n",
       "      <th>month</th>\n",
       "    </tr>\n",
       "  </thead>\n",
       "  <tbody>\n",
       "    <tr>\n",
       "      <th>count</th>\n",
       "      <td>1.139001e+06</td>\n",
       "      <td>1139001.0</td>\n",
       "      <td>1.139001e+06</td>\n",
       "    </tr>\n",
       "    <tr>\n",
       "      <th>mean</th>\n",
       "      <td>2.004257e+03</td>\n",
       "      <td>3.0</td>\n",
       "      <td>6.449130e+00</td>\n",
       "    </tr>\n",
       "    <tr>\n",
       "      <th>std</th>\n",
       "      <td>8.518575e+00</td>\n",
       "      <td>0.0</td>\n",
       "      <td>3.451675e+00</td>\n",
       "    </tr>\n",
       "    <tr>\n",
       "      <th>min</th>\n",
       "      <td>1.990000e+03</td>\n",
       "      <td>3.0</td>\n",
       "      <td>1.000000e+00</td>\n",
       "    </tr>\n",
       "    <tr>\n",
       "      <th>25%</th>\n",
       "      <td>1.997000e+03</td>\n",
       "      <td>3.0</td>\n",
       "      <td>3.000000e+00</td>\n",
       "    </tr>\n",
       "    <tr>\n",
       "      <th>50%</th>\n",
       "      <td>2.004000e+03</td>\n",
       "      <td>3.0</td>\n",
       "      <td>6.000000e+00</td>\n",
       "    </tr>\n",
       "    <tr>\n",
       "      <th>75%</th>\n",
       "      <td>2.012000e+03</td>\n",
       "      <td>3.0</td>\n",
       "      <td>9.000000e+00</td>\n",
       "    </tr>\n",
       "    <tr>\n",
       "      <th>max</th>\n",
       "      <td>2.019000e+03</td>\n",
       "      <td>3.0</td>\n",
       "      <td>1.200000e+01</td>\n",
       "    </tr>\n",
       "  </tbody>\n",
       "</table>\n",
       "</div>"
      ],
      "text/plain": [
       "               year     series         month\n",
       "count  1.139001e+06  1139001.0  1.139001e+06\n",
       "mean   2.004257e+03        3.0  6.449130e+00\n",
       "std    8.518575e+00        0.0  3.451675e+00\n",
       "min    1.990000e+03        3.0  1.000000e+00\n",
       "25%    1.997000e+03        3.0  3.000000e+00\n",
       "50%    2.004000e+03        3.0  6.000000e+00\n",
       "75%    2.012000e+03        3.0  9.000000e+00\n",
       "max    2.019000e+03        3.0  1.200000e+01"
      ]
     },
     "execution_count": 10,
     "metadata": {},
     "output_type": "execute_result"
    }
   ],
   "source": [
    "la_data_64_County = la_data_64_County[is_unemployment & is_month]\n",
    "la_data_64_County.describe()"
   ]
  },
  {
   "cell_type": "code",
   "execution_count": 11,
   "metadata": {},
   "outputs": [],
   "source": [
    "US_counties_03 = pd.merge(la_data_64_County,la_area,on='area_code',indicator=True)\n",
    "US_counties_03.rename(columns={'_merge':'source'}, inplace=True)"
   ]
  },
  {
   "cell_type": "code",
   "execution_count": 12,
   "metadata": {},
   "outputs": [
    {
     "data": {
      "text/plain": [
       "(1139001, 14)"
      ]
     },
     "execution_count": 12,
     "metadata": {},
     "output_type": "execute_result"
    }
   ],
   "source": [
    "US_counties_03.shape"
   ]
  },
  {
   "cell_type": "code",
   "execution_count": 13,
   "metadata": {},
   "outputs": [
    {
     "data": {
      "text/plain": [
       "both          1139001\n",
       "right_only          0\n",
       "left_only           0\n",
       "Name: source, dtype: int64"
      ]
     },
     "execution_count": 13,
     "metadata": {},
     "output_type": "execute_result"
    }
   ],
   "source": [
    "# LAUCN010010000000003\n",
    "US_counties_03['source'].value_counts()"
   ]
  },
  {
   "cell_type": "code",
   "execution_count": 14,
   "metadata": {},
   "outputs": [
    {
     "data": {
      "text/plain": [
       "3    1139001\n",
       "Name: series, dtype: int64"
      ]
     },
     "execution_count": 14,
     "metadata": {},
     "output_type": "execute_result"
    }
   ],
   "source": [
    "US_counties_03['series'].value_counts()"
   ]
  },
  {
   "cell_type": "code",
   "execution_count": 15,
   "metadata": {},
   "outputs": [],
   "source": [
    "#data[\"Team\"].str.split(\"t\", n = 1, expand = True) \n",
    "US_counties_03['county_name'] = US_counties_03['area_text'].str.split(', ', n = 1, expand = True)[0].astype(str)\n",
    "US_counties_03['state'] = US_counties_03['area_text'].str.split(', ', n = 1, expand = True)[1].astype(str)"
   ]
  },
  {
   "cell_type": "code",
   "execution_count": 16,
   "metadata": {},
   "outputs": [],
   "source": [
    "US_counties_03['county_name'] = US_counties_03['county_name'].str.split(' Borough', n = 1, expand = True)[0]\n",
    "US_counties_03['county_name'] = US_counties_03['county_name'].str.split('/', n = 1, expand = True)[0]"
   ]
  },
  {
   "cell_type": "code",
   "execution_count": 17,
   "metadata": {},
   "outputs": [
    {
     "data": {
      "text/plain": [
       "series_id           object\n",
       "year                 int32\n",
       "period              object\n",
       "value               object\n",
       "footnote_codes      object\n",
       "area_code           object\n",
       "series               int32\n",
       "month                int32\n",
       "area_type_code      object\n",
       "area_text           object\n",
       "display_level        int64\n",
       "selectable          object\n",
       "sort_sequence        int64\n",
       "source            category\n",
       "county_name         object\n",
       "state               object\n",
       "dtype: object"
      ]
     },
     "execution_count": 17,
     "metadata": {},
     "output_type": "execute_result"
    }
   ],
   "source": [
    "US_counties_03.dtypes"
   ]
  },
  {
   "cell_type": "code",
   "execution_count": 18,
   "metadata": {},
   "outputs": [],
   "source": [
    "#replace state=\"DC\" if county_name==\"District of Columbia\"\n",
    "#replace county_name=\"DoÃ±a Ana County\" if county_name==\"Dona Ana County\"\n",
    "US_counties_03.loc[US_counties_03['county_name'] == \"District of Columbia\", 'state'] = 'DC'\n",
    "US_counties_03.loc[US_counties_03['county_name'] == \"Dona Ana County\", 'county_name'] = 'DoÃ±a Ana County'"
   ]
  },
  {
   "cell_type": "code",
   "execution_count": 19,
   "metadata": {},
   "outputs": [
    {
     "data": {
      "text/plain": [
       "series_id           object\n",
       "year                 int32\n",
       "period              object\n",
       "value               object\n",
       "footnote_codes      object\n",
       "area_code           object\n",
       "series               int32\n",
       "month                int32\n",
       "area_type_code      object\n",
       "area_text           object\n",
       "display_level        int64\n",
       "selectable          object\n",
       "sort_sequence        int64\n",
       "source            category\n",
       "county_name         object\n",
       "state               object\n",
       "dtype: object"
      ]
     },
     "execution_count": 19,
     "metadata": {},
     "output_type": "execute_result"
    }
   ],
   "source": [
    "US_counties_03.dtypes"
   ]
  },
  {
   "cell_type": "code",
   "execution_count": 20,
   "metadata": {},
   "outputs": [],
   "source": [
    "US_counties_03=US_counties_03.drop(['period','footnote_codes','display_level','selectable','sort_sequence','source','area_type_code'],axis=1)"
   ]
  },
  {
   "cell_type": "code",
   "execution_count": 21,
   "metadata": {},
   "outputs": [],
   "source": [
    "# Unique by state county_name year month\n",
    "US_counties_03.to_stata('US_counties_03.dta')"
   ]
  },
  {
   "cell_type": "code",
   "execution_count": null,
   "metadata": {},
   "outputs": [],
   "source": []
  }
 ],
 "metadata": {
  "kernelspec": {
   "display_name": "Python 3",
   "language": "python",
   "name": "python3"
  },
  "language_info": {
   "codemirror_mode": {
    "name": "ipython",
    "version": 3
   },
   "file_extension": ".py",
   "mimetype": "text/x-python",
   "name": "python",
   "nbconvert_exporter": "python",
   "pygments_lexer": "ipython3",
   "version": "3.7.3"
  }
 },
 "nbformat": 4,
 "nbformat_minor": 2
}
